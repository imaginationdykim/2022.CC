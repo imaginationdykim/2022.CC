{
 "cells": [
  {
   "cell_type": "markdown",
   "id": "fab8de68",
   "metadata": {},
   "source": [
    "# Importing the libraries required for this code\n",
    "This code is written in Jupyter Notebook (6.4.11).\n",
    "This is an opensource code, can be modified and distributed for any purpose.\n",
    "The following is the library packages that we used in the code:\n",
    "Numpy (1.22.1),\n",
    "Pandas (1.4.0),\n",
    "SciPy (1.7.3),\n",
    "Matplotlib (3.5.1),\n",
    "Seaborn (0.11.2)"
   ]
  },
  {
   "cell_type": "code",
   "execution_count": 8,
   "id": "060ebd37",
   "metadata": {},
   "outputs": [],
   "source": [
    "import os\n",
    "import itertools\n",
    "import numpy as np\n",
    "import pandas as pd\n",
    "import matplotlib.pyplot as plt\n",
    "import seaborn as sns\n",
    "from scipy.optimize import minimize\n",
    "from scipy import stats\n",
    "\n",
    "\n",
    "\n",
    "#from decimal import *\n",
    "#from mpl_toolkits.axes_grid1.inset_locator import inset_axes\n",
    "#from matplotlib.collections import PathCollection"
   ]
  },
  {
   "cell_type": "markdown",
   "id": "cbaa3f9a",
   "metadata": {},
   "source": [
    "# Importing data (dectin-2 U937 cells stimulated with FurFurMan)\n",
    "\n",
    "The imported input_output consist of input (Doses, first column) and output (GFP, second column) information (See SI section 1).\n",
    "The total measured input and output is 124488."
   ]
  },
  {
   "cell_type": "code",
   "execution_count": 9,
   "id": "7f27b666",
   "metadata": {},
   "outputs": [
    {
     "name": "stdout",
     "output_type": "stream",
     "text": [
      "Data:  [[ 0. 11.]\n",
      " [ 0.  2.]\n",
      " [ 0.  3.]\n",
      " ...\n",
      " [ 7. 10.]\n",
      " [ 7.  5.]\n",
      " [ 7. 17.]]\n",
      "Shape: (124488, 2)\n"
     ]
    }
   ],
   "source": [
    "input_output = np.genfromtxt(\"dectin-2 FFM.csv\", delimiter = \",\")\n",
    "\n",
    "print(\"Data: \", input_output)\n",
    "print(\"Shape:\", input_output.shape)"
   ]
  },
  {
   "cell_type": "markdown",
   "id": "e65fbe2e",
   "metadata": {},
   "source": [
    "# Plotting joint distribution of the input (doses) and out (GFP) information"
   ]
  },
  {
   "cell_type": "code",
   "execution_count": 10,
   "id": "049420a8",
   "metadata": {},
   "outputs": [
    {
     "name": "stdout",
     "output_type": "stream",
     "text": [
      "Entropy of input = 3.0\n",
      "Entropy of output = 1.53\n",
      "Joint Entropy = 4.23\n",
      "Mutual Information = 0.3\n"
     ]
    },
    {
     "data": {
      "image/png": "[encoded data removed]",
      "text/plain": [
       "<Figure size 504x504 with 4 Axes>"
      ]
     },
     "metadata": {
      "needs_background": "light"
     },
     "output_type": "display_data"
    }
   ],
   "source": [
    "\n",
    "\n",
    "sub_data = np.zeros((0,2))   #due to the large dataset, we subsample the data for the plotting\n",
    "doses = [0, 1, 4, 12, 37, 111, 333, 1000]\n",
    "for j, i in enumerate(np.unique(input_output[:,0])):\n",
    "    temp = input_output[input_output[:,0] == i]\n",
    "    temp = temp[np.random.choice(np.arange(0, len(temp)), 100) ,:]  #subsampling\n",
    "    temp[:,0] = doses[j]\n",
    "    sub_data = np.vstack((sub_data, temp))\n",
    "sub_data = sub_data.astype(int)\n",
    "\n",
    "\n",
    "input_binning = len(pd.unique(input_output[:,0]))  #input binning number is the same as the number of input doses\n",
    "output_binning = 10  #output binning number\n",
    "\n",
    "Pxy, x_margin, y_margin = np.histogram2d(input_output[:,0], input_output[:,1], bins = [input_binning, output_binning])\n",
    "\n",
    "x_margin = np.arange(-0.5, len(x_margin)-1)   # for the alignment of the plot\n",
    "\n",
    "\n",
    "###entropy calculation\n",
    "Pxy = Pxy/Pxy.sum(axis = None)\n",
    "\n",
    "Z = Pxy/Pxy.sum(axis = None) + 1E-10\n",
    "x_marginal = Z.sum(axis = 1) \n",
    "y_marginal = Z.sum(axis = 0) \n",
    "x_entropy = round((-x_marginal*np.log2(x_marginal)).sum(), 2)\n",
    "y_entropy = round((-y_marginal*np.log2(y_marginal)).sum(), 2)\n",
    "joint_entropy = round((-(Z) *np.log2(Z)).sum(axis = None), 2)\n",
    "mutual_information =  round((x_entropy + y_entropy) - joint_entropy, 2)                                                              \n",
    "                                                                       \n",
    "\n",
    "###plotting\n",
    "fig, axs = plt.subplots(2, 2, gridspec_kw={'width_ratios': [2, 0.7], 'height_ratios': [0.7, 2]}, figsize = (7,7))\n",
    "#plt.rcParams['figure.figsize'] = [10, 10]\n",
    "\n",
    "fig.subplots_adjust(hspace=0.07)\n",
    "fig.subplots_adjust(wspace=0.07)\n",
    "\n",
    "axs[0,0].get_xaxis().set_visible(False)\n",
    "axs[0,0].bar(np.arange(Z.shape[0]), x_marginal, color = \"gray\", edgecolor  = \"k\")\n",
    "axs[0,0].set_xlim((-0.5, Z.shape[0] - 0.5))\n",
    "axs[0,0].set_ylim([0,max(x_marginal) + 0.01])\n",
    "axs[0,0].set_xticks([round(0,1), round(x_marginal.max(),1)])\n",
    "axs[0,0].set_ylabel(\"Px\")\n",
    "\n",
    "axs[0,1].get_xaxis().set_visible(False)\n",
    "axs[0,1].get_yaxis().set_visible(False)\n",
    "axs[0,1].axis('off')\n",
    "axs[0,1].annotate(\"Hx: \" + str(x_entropy)  , (0,0.8))\n",
    "axs[0,1].annotate(\"Hy: \" + str(y_entropy) , (0,0.55))\n",
    "axs[0,1].annotate(\"Hxy: \" + str(joint_entropy)  , (0,0.3))\n",
    "axs[0,1].annotate(\"MI: \" + str(mutual_information)  , (0,0.05))\n",
    "\n",
    "c = axs[1,0].pcolormesh(x_margin, y_margin, Pxy.T,cmap ='PuBu', edgecolors='gray', linewidths=0.5)\n",
    "#cbaxes = inset_axes(axs[1,0], width=\"30%\", height=\"3%\", loc= 2 ) \n",
    "cax = axs[1,0].inset_axes([0.1, 0.9, 0.3, 0.03], transform=axs[1,0].transAxes)\n",
    "\n",
    "cbar = fig.colorbar(c, cax = cax, orientation = \"horizontal\", ticks = [0.0, round(Pxy.max()-Pxy.max()/7, 2)])\n",
    "cbar.set_label('Pxy')\n",
    "\n",
    "#cbar.ax.set_xticklabels([0, round(Pxy.max(), 2)])\n",
    "axs[1,0].set_xlabel(\"FurFurMan (\\u03BCg/mL)\")\n",
    "sns.swarmplot(x=sub_data[:,0], y=sub_data[:,1], size = 1, color = \"k\", ax = axs[1,0] )\n",
    "axs[1,0].set_ylabel(\"GFP expression\")\n",
    "axs[1,0].set_xlim(-0.5,Z.shape[0]-0.5)\n",
    "\n",
    "axs[1,0].set_xticklabels(doses, rotation=45, ha=\"right\",  rotation_mode=\"anchor\") \n",
    "#axs[1,0].set_xticks([0, 1, 4, 12, 37, 111, 333, 1000])\n",
    "\n",
    "axs[1,1].get_yaxis().set_visible(False)\n",
    "axs[1,1].barh(np.arange(Z.shape[1]), y_marginal, color = \"gray\", edgecolor  = \"k\")\n",
    "axs[1,1].set_xlabel(\"Py\")\n",
    "axs[1,1].set_xticks([round(0,1), round(y_marginal.max(),1)])\n",
    "axs[1,1].set_ylim((-0.5, Z.shape[1] - 0.5))\n",
    "print(\"Entropy of input = \" + str(x_entropy))\n",
    "print(\"Entropy of output = \" + str(y_entropy))\n",
    "print(\"Joint Entropy = \" + str(joint_entropy))\n",
    "print(\"Mutual Information = \" + str(mutual_information))"
   ]
  },
  {
   "cell_type": "markdown",
   "id": "c3a83567",
   "metadata": {},
   "source": [
    "The plot shown above describes the joint probability distribution of the input and output dataset."
   ]
  },
  {
   "attachments": {},
   "cell_type": "markdown",
   "id": "cfdfd724",
   "metadata": {},
   "source": [
    "# Mutual information optimization function\n",
    "To optimize (maximize) mutual information using weighting values (see SI section 1 of the Supplemental Information of the paper), we use Sequential Least Squares Programming (SLSQP) (https://docs.scipy.org/doc/scipy/reference/optimize.minimize-slsqp.html#optimize-minimize-slsqp)."
   ]
  },
  {
   "cell_type": "code",
   "execution_count": 11,
   "id": "765cc68e",
   "metadata": {},
   "outputs": [],
   "source": [
    "def channel_capacity(data, binnum_mem, binnum_GFP):\n",
    "    global history\n",
    "    global entropy_list\n",
    "    global Pxy_origin\n",
    "    np.random.seed()\n",
    "    entropy_list = np.zeros((0,4))    \n",
    "    p = np.repeat(1/binnum_mem, binnum_mem)\n",
    "    history = []\n",
    "\n",
    "    #binning X\n",
    "    starting_data_input = np.min(data[:,0])    #Low cut-off from blue laser\n",
    "    ending_data_input =np.max(data[:,0])   #High cut-off from blue laser\n",
    "    binning_ratio_output =      (ending_data_input - starting_data_input ) /   (binnum_mem)\n",
    "\n",
    "    next_value_output = starting_data_input\n",
    "    bin_x =[starting_data_input]  #initial value for y binning\n",
    "    #generation of y binning interval. it is log scale\n",
    "    for i in range(0,binnum_mem):\n",
    "        next_value_output = next_value_output + binning_ratio_output\n",
    "        bin_x.append(next_value_output) \n",
    "\n",
    "    bin_x = np.array(bin_x)\n",
    "    bin_x[-1] = bin_x[-1] + 0.1\n",
    "\n",
    "    #binning Y\n",
    "    starting_data_input = np.min(data[:,1])    #Low cut-off from blue laser\n",
    "    ending_data_input =np.max(data[:,1])   #High cut-off from blue laser\n",
    "    binning_ratio_output =      (ending_data_input - starting_data_input ) /   (binnum_GFP)\n",
    "\n",
    "    next_value_output = starting_data_input\n",
    "    bin_y =[starting_data_input] \n",
    "\n",
    "    for i in range(0,binnum_GFP):\n",
    "        next_value_output = next_value_output + binning_ratio_output\n",
    "        bin_y.append(next_value_output) \n",
    "\n",
    "    bin_y = np.array(bin_y)\n",
    "\n",
    "    \n",
    "    x = data[:,0]\n",
    "    x = x.astype(int)\n",
    "    probability_x = []\n",
    "    temp_x_bin = np.copy(bin_x)\n",
    "    temp_x_bin = temp_x_bin[1:]\n",
    "    temp_x_bin[-1] = temp_x_bin[-1] + 1\n",
    "\n",
    "    bincount_x = np.bincount(np.digitize(x,temp_x_bin))\n",
    "    \n",
    "    for i in range(0, len(bincount_x)):\n",
    "        initial_repeat = list(itertools.repeat(p[i],bincount_x[i]))\n",
    "        probability_x.extend(initial_repeat)\n",
    "    \n",
    "    probability_x = np.array(probability_x)\n",
    "    data = np.column_stack((data,probability_x.T))\n",
    "    Pxy_origin, dummy_a, dummy_b = np.histogram2d(data[:,0], data[:,1],  bins = [bin_x, bin_y])     \n",
    "    \n",
    "    def MI(p):    \n",
    "        global entropy_list\n",
    "        global Pxy_origin\n",
    "        Pxy=np.copy(Pxy_origin)\n",
    "        Pxy = Pxy * p[:,np.newaxis]\n",
    "        Px = Pxy.sum(axis =1)\n",
    "        Px = Px/sum(Px)\n",
    "        entropy_Px = -Px*np.nan_to_num(np.log2(Px  + 0.0000001))\n",
    "        entropy_Px = entropy_Px.sum()\n",
    "        Py = Pxy.sum(axis =0)\n",
    "        Py = Py/sum(Py)\n",
    "        entropy_Py = -Py*np.nan_to_num(np.log2(Py + 0.0000001))\n",
    "        entropy_Py = entropy_Py.sum()\n",
    "        Pxy = Pxy/Pxy.sum()\n",
    "        Jentropy = 0\n",
    "        Pxy_list = Pxy.flatten()\n",
    "        Jentropy = -Pxy_list*np.nan_to_num(np.log2(Pxy_list  + 0.0000001))\n",
    "        Jentropy = Jentropy.sum()\n",
    "        MI = entropy_Px + entropy_Py - Jentropy\n",
    "        p = p/p.sum()\n",
    "        temp_entropy_list = np.array([entropy_Px, entropy_Py, Jentropy, MI])\n",
    "        entropy_list = np.vstack((entropy_list, temp_entropy_list))             \n",
    "        values = Px\n",
    "        history.append(values)\n",
    "        return -MI\n",
    "\n",
    "    \n",
    "    bin_vs_MI = []\n",
    "    for i in range(2,1):\n",
    "        value = MI(i)\n",
    "        bin_vs_MI.append(value)\n",
    "\n",
    "    history = []\n",
    "    \n",
    "    def constraint1(p):\n",
    "        return sum(p)- 1\n",
    "        \n",
    "    b = np.array([[0.0, 10.0]])\n",
    "    bnds = np.repeat(b, len(p),axis=0)\n",
    "\n",
    "    con1 = {\"type\": \"eq\", \"fun\": constraint1}\n",
    "    \n",
    "    cons = [con1]\n",
    "    minimize(MI, p,  bounds = bnds, constraints = cons,options={ 'disp': False},  method = \"SLSQP\")\n",
    "    history = np.array(history)\n",
    "    pd.history = pd.DataFrame(history)\n",
    "\n",
    "    return entropy_list[-1,3] "
   ]
  },
  {
   "cell_type": "markdown",
   "id": "32fd3cb2",
   "metadata": {},
   "source": [
    "# Mutual information maximization"
   ]
  },
  {
   "cell_type": "code",
   "execution_count": 12,
   "id": "3b70c775",
   "metadata": {},
   "outputs": [
    {
     "name": "stdout",
     "output_type": "stream",
     "text": [
      "Channel capacity:  0.43404026041191335\n"
     ]
    }
   ],
   "source": [
    "CC = channel_capacity(input_output, input_binning , output_binning) #we already defined input binning and output binning\n",
    "print(\"Channel capacity: \", CC)"
   ]
  },
  {
   "cell_type": "markdown",
   "id": "18655bd0",
   "metadata": {},
   "source": [
    "# Estimation of channel capacity at infinite sample size using bootstrapping\n",
    "Note that the number of sample size of our input and output dataset is 124488.\n",
    "Using bootstrapping, we can estimate channel capacity at infinite sample size.\n",
    "Please see the detailed information in SI section 1.7.\n",
    "For short, we will do subsampling from the original data (i.e. input_output) by 50, 60, 70, 80, 90 and 100% with replacement. Then plot CC with the inverse of the sample size and extrapolate CC at infinite sample size (i.e.,0)."
   ]
  },
  {
   "cell_type": "code",
   "execution_count": 13,
   "id": "955b2d51",
   "metadata": {},
   "outputs": [
    {
     "data": {
      "text/html": [
       "<div>\n",
       "<style scoped>\n",
       "    .dataframe tbody tr th:only-of-type {\n",
       "        vertical-align: middle;\n",
       "    }\n",
       "\n",
       "    .dataframe tbody tr th {\n",
       "        vertical-align: top;\n",
       "    }\n",
       "\n",
       "    .dataframe thead th {\n",
       "        text-align: right;\n",
       "    }\n",
       "</style>\n",
       "<table border=\"1\" class=\"dataframe\">\n",
       "  <thead>\n",
       "    <tr style=\"text-align: right;\">\n",
       "      <th></th>\n",
       "      <th>Sample size</th>\n",
       "      <th>Trial</th>\n",
       "      <th>Channel capacity</th>\n",
       "    </tr>\n",
       "  </thead>\n",
       "  <tbody>\n",
       "    <tr>\n",
       "      <th>0</th>\n",
       "      <td>62242</td>\n",
       "      <td>0</td>\n",
       "      <td>0.43294</td>\n",
       "    </tr>\n",
       "    <tr>\n",
       "      <th>0</th>\n",
       "      <td>62242</td>\n",
       "      <td>1</td>\n",
       "      <td>0.427722</td>\n",
       "    </tr>\n",
       "    <tr>\n",
       "      <th>0</th>\n",
       "      <td>62242</td>\n",
       "      <td>2</td>\n",
       "      <td>0.435864</td>\n",
       "    </tr>\n",
       "    <tr>\n",
       "      <th>0</th>\n",
       "      <td>62242</td>\n",
       "      <td>3</td>\n",
       "      <td>0.429958</td>\n",
       "    </tr>\n",
       "    <tr>\n",
       "      <th>0</th>\n",
       "      <td>62242</td>\n",
       "      <td>4</td>\n",
       "      <td>0.430207</td>\n",
       "    </tr>\n",
       "  </tbody>\n",
       "</table>\n",
       "</div>"
      ],
      "text/plain": [
       "  Sample size Trial Channel capacity\n",
       "0       62242     0          0.43294\n",
       "0       62242     1         0.427722\n",
       "0       62242     2         0.435864\n",
       "0       62242     3         0.429958\n",
       "0       62242     4         0.430207"
      ]
     },
     "execution_count": 13,
     "metadata": {},
     "output_type": "execute_result"
    }
   ],
   "source": [
    "#subsampling procedure\n",
    "data_list = pd.DataFrame(columns = [\"Sample size\", \"Trial\", \"Channel capacity\"]) #making an empty dataset\n",
    "\n",
    "subsample_percentage_list = [50, 60, 70, 80, 90, 100]\n",
    "trial_number = 10   # we will draw the samples 10 times for each subsampling percentage\n",
    "\n",
    "for subsample in subsample_percentage_list:\n",
    "    for trial in np.arange(10):\n",
    "        subsampled_input_output = np.zeros((0,2))\n",
    "        \n",
    "        for dose in np.unique(input_output[:,0]):\n",
    "            temp = input_output[input_output[:,0] == dose]\n",
    "            index_subsample = np.random.choice(len(temp), int(len(temp)*subsample/100), replace=True)\n",
    "            temp = temp[index_subsample,:]\n",
    "            subsampled_input_output = np.vstack((subsampled_input_output, temp))\n",
    "            \n",
    "        CC = channel_capacity(subsampled_input_output, input_binning , output_binning) #we already defined input binning and output binning\n",
    "        data_temp = [len(subsampled_input_output), trial, CC]\n",
    "        temp_CC_list = pd.DataFrame([data_temp], columns = [\"Sample size\", \"Trial\", \"Channel capacity\"])\n",
    "        data_list = pd.concat([data_list, temp_CC_list])\n",
    "\n",
    "data_list.head()      "
   ]
  },
  {
   "cell_type": "code",
   "execution_count": 15,
   "id": "d4481289",
   "metadata": {},
   "outputs": [
    {
     "name": "stdout",
     "output_type": "stream",
     "text": [
      "Channel capacity at infinite sample size:  0.4331101876753283\n"
     ]
    },
    {
     "data": {
      "image/png": "[encoded data removed]",
      "text/plain": [
       "<Figure size 720x720 with 1 Axes>"
      ]
     },
     "metadata": {
      "needs_background": "light"
     },
     "output_type": "display_data"
    }
   ],
   "source": [
    "#estimating CC at infinite sample size using linear regression\n",
    "data_list[\"Sample size\"] = 1/data_list[\"Sample size\"]\n",
    "data_list = data_list.astype(float)\n",
    "fig, ax = plt.subplots(1, 1, figsize = (10,10))\n",
    "\n",
    "max_x = data_list[\"Sample size\"].max()\n",
    "\n",
    "res = stats.linregress(data_list[\"Sample size\"], data_list[\"Channel capacity\"])\n",
    "std_cc_at0 = res.intercept_stderr\n",
    "y0 = res.intercept\n",
    "slope = res.slope\n",
    "\n",
    "plt.plot(np.linspace(0,max_x), np.linspace(0,max_x) * slope + y0, color = \"k\", linewidth = 0.5)\n",
    "\n",
    "\n",
    "scatter = ax.scatter(data_list[\"Sample size\"], data_list[\"Channel capacity\"], marker=\".\", \n",
    "                     c = data_list[\"Sample size\"],  s = 20, cmap=plt.get_cmap(\"nipy_spectral\"))\n",
    "\n",
    "ax.set_xlabel(\"1/Number of samples\")\n",
    "ax.set_ylabel(\"Channel capacity (bits)\")\n",
    "ax.set_xticks(ticks = np.append(0,np.unique(data_list[\"Sample size\"])))\n",
    "ax.ticklabel_format(style='sci', axis='x', scilimits=(0,0))\n",
    "plt.xticks(rotation = 45)\n",
    "\n",
    "print(\"Channel capacity at infinite sample size: \", y0)"
   ]
  },
  {
   "cell_type": "code",
   "execution_count": null,
   "id": "69658fae",
   "metadata": {},
   "outputs": [],
   "source": []
  }
 ],
 "metadata": {
  "kernelspec": {
   "display_name": "Python 3 (ipykernel)",
   "language": "python",
   "name": "python3"
  },
  "language_info": {
   "codemirror_mode": {
    "name": "ipython",
    "version": 3
   },
   "file_extension": ".py",
   "mimetype": "text/x-python",
   "name": "python",
   "nbconvert_exporter": "python",
   "pygments_lexer": "ipython3",
   "version": "3.8.12"
  },
  "varInspector": {
   "cols": {
    "lenName": 16,
    "lenType": 16,
    "lenVar": 40
   },
   "kernels_config": {
    "python": {
     "delete_cmd_postfix": "",
     "delete_cmd_prefix": "del ",
     "library": "var_list.py",
     "varRefreshCmd": "print(var_dic_list())"
    },
    "r": {
     "delete_cmd_postfix": ") ",
     "delete_cmd_prefix": "rm(",
     "library": "var_list.r",
     "varRefreshCmd": "cat(var_dic_list()) "
    }
   },
   "types_to_exclude": [
    "module",
    "function",
    "builtin_function_or_method",
    "instance",
    "_Feature"
   ],
   "window_display": false
  }
 },
 "nbformat": 4,
 "nbformat_minor": 5
}
